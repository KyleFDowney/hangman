{
 "cells": [
  {
   "cell_type": "code",
   "execution_count": null,
   "metadata": {},
   "outputs": [],
   "source": [
    "from random import randint\n",
    "\n",
    "lettersGuessed = ['','?','!','.']\n",
    "correctGuesses = []\n",
    "wrong = [0]\n",
    "\n",
    "class Word():\n",
    "  \n",
    "    words = ['WIZARD','KNIGHT','DRAGON','ILLUSION','ETHEREAL','INDOMITABLE','INVISIBLE','ENSARE','BEGUILE','ALLEVIATE']\n",
    "    hints = ['A wielder of magic...','A reknowned warrior of a lord...','Arguably the most powerful mythical creature...','When all is not as it seems...','Spectral beings...','Undefeatable...','Hidden to the eyes...','To capture or restrict...','To captivate deceptively...','To ease discomfort...']\n",
    "    gameWord = randint(0,9)\n",
    "\n",
    "#     print(words[gameWord]+' '+hints[gameWord])\n",
    "\n",
    "\n",
    "def displayGuesses():\n",
    "    i = 4\n",
    "    whileLettersGuessed = []\n",
    "    while (i < len(lettersGuessed) and len(lettersGuessed) > 3):\n",
    "        whileLettersGuessed.append(lettersGuessed[i])\n",
    "        i = i+1\n",
    "    else:\n",
    "        print(whileLettersGuessed)\n",
    "        print('Correct letters:')\n",
    "        print(str(correctGuesses))\n",
    "        print(str(list(Word().words[Word().gameWord])))\n",
    "        print('')\n",
    "        \n",
    "# def hiddenAnswer():\n",
    "#     i = 0\n",
    "#     hiddenWord = []\n",
    "#     while (i < len(Word().words[Word().gameWord])):\n",
    "#         Word().words[Word().gameWord]\n",
    "    \n",
    "    \n",
    "def play():\n",
    "    print(Word().words[Word().gameWord])\n",
    "    print(Word().hints[Word().gameWord])\n",
    "    guess = input(\"What is your guess?\").upper()\n",
    "    if (guess in Word().words[Word().gameWord] or guess in lettersGuessed or len(guess)!=1):\n",
    "        if (guess in lettersGuessed):\n",
    "            print('Letter already entered or invalid')\n",
    "            displayGuesses()\n",
    "            play()\n",
    "        elif (len(guess)!=1):\n",
    "            print('Letter already entered or invalid')\n",
    "            displayGuesses()\n",
    "            play()\n",
    "        else:\n",
    "            if ((str(correctGuesses)) == (str(list(Word().words[Word().gameWord])))):\n",
    "                print('You guessed the word without dying horribly! Congratulations!')\n",
    "                print(Word().words[Word().gameWord])\n",
    "                lettersGuessed.append(guess)\n",
    "            else:\n",
    "                print('You guessed correctly!')\n",
    "                lettersGuessed.append(guess)\n",
    "                correctGuesses.append(guess)\n",
    "                displayGuesses()\n",
    "                play()\n",
    "    else:\n",
    "        if (wrong[0] < 8):\n",
    "            lettersGuessed.append(guess)\n",
    "            displayGuesses()\n",
    "            wrong[0] = wrong[0]+1\n",
    "            x = 8 - wrong[0]\n",
    "            print('Wrong! '+str(x)+' trys remaining...')\n",
    "            play()\n",
    "        else:\n",
    "            print('     YOU DIED!   :C')\n",
    "\n",
    "\n",
    "Word.__call__()\n",
    "play()"
   ]
  },
  {
   "cell_type": "code",
   "execution_count": 8,
   "metadata": {},
   "outputs": [
    {
     "name": "stdout",
     "output_type": "stream",
     "text": [
      "nope\n",
      "['d', 'o', 'g']\n"
     ]
    }
   ],
   "source": [
    "if ( list('dog') == ['d','o', 'o' ,'g']):\n",
    "    print('You guessed the word without dying horribly! Congratulations!')\n",
    "else:\n",
    "    print('nope')\n",
    "    print(list('dog'))"
   ]
  }
 ],
 "metadata": {
  "kernelspec": {
   "display_name": "Python 3",
   "language": "python",
   "name": "python3"
  },
  "language_info": {
   "codemirror_mode": {
    "name": "ipython",
    "version": 3
   },
   "file_extension": ".py",
   "mimetype": "text/x-python",
   "name": "python",
   "nbconvert_exporter": "python",
   "pygments_lexer": "ipython3",
   "version": "3.6.1"
  }
 },
 "nbformat": 4,
 "nbformat_minor": 2
}
